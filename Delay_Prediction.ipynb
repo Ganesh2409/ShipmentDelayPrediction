{
 "cells": [
  {
   "cell_type": "code",
   "execution_count": 1,
   "metadata": {
    "id": "JAHBSi3K7EOb"
   },
   "outputs": [],
   "source": [
    "import numpy as np,pandas as pd,seaborn as sns,warnings\n",
    "warnings.filterwarnings('ignore')\n"
   ]
  },
  {
   "cell_type": "code",
   "execution_count": 2,
   "metadata": {
    "colab": {
     "base_uri": "https://localhost:8080/",
     "height": 347
    },
    "id": "OCSD-4Wo7Q1M",
    "outputId": "6b388873-5c7c-45eb-b687-0a364f77d3bc"
   },
   "outputs": [
    {
     "data": {
      "text/html": [
       "<div>\n",
       "<style scoped>\n",
       "    .dataframe tbody tr th:only-of-type {\n",
       "        vertical-align: middle;\n",
       "    }\n",
       "\n",
       "    .dataframe tbody tr th {\n",
       "        vertical-align: top;\n",
       "    }\n",
       "\n",
       "    .dataframe thead th {\n",
       "        text-align: right;\n",
       "    }\n",
       "</style>\n",
       "<table border=\"1\" class=\"dataframe\">\n",
       "  <thead>\n",
       "    <tr style=\"text-align: right;\">\n",
       "      <th></th>\n",
       "      <th>Shipment ID</th>\n",
       "      <th>Origin</th>\n",
       "      <th>Destination</th>\n",
       "      <th>Shipment Date</th>\n",
       "      <th>Planned Delivery Date</th>\n",
       "      <th>Actual Delivery Date</th>\n",
       "      <th>Vehicle Type</th>\n",
       "      <th>Distance (km)</th>\n",
       "      <th>Weather Conditions</th>\n",
       "      <th>Traffic Conditions</th>\n",
       "      <th>Delayed</th>\n",
       "    </tr>\n",
       "  </thead>\n",
       "  <tbody>\n",
       "    <tr>\n",
       "      <th>0</th>\n",
       "      <td>SHIP000000</td>\n",
       "      <td>Jaipur</td>\n",
       "      <td>Mumbai</td>\n",
       "      <td>2023-04-26</td>\n",
       "      <td>2023-05-01</td>\n",
       "      <td>2023-05-02</td>\n",
       "      <td>Trailer</td>\n",
       "      <td>1603</td>\n",
       "      <td>Rain</td>\n",
       "      <td>Light</td>\n",
       "      <td>Yes</td>\n",
       "    </tr>\n",
       "    <tr>\n",
       "      <th>1</th>\n",
       "      <td>SHIP000001</td>\n",
       "      <td>Bangalore</td>\n",
       "      <td>Delhi</td>\n",
       "      <td>2023-02-09</td>\n",
       "      <td>2023-02-13</td>\n",
       "      <td>2023-02-17</td>\n",
       "      <td>Trailer</td>\n",
       "      <td>1237</td>\n",
       "      <td>Storm</td>\n",
       "      <td>Moderate</td>\n",
       "      <td>Yes</td>\n",
       "    </tr>\n",
       "    <tr>\n",
       "      <th>2</th>\n",
       "      <td>SHIP000002</td>\n",
       "      <td>Mumbai</td>\n",
       "      <td>Chennai</td>\n",
       "      <td>2023-09-19</td>\n",
       "      <td>2023-09-25</td>\n",
       "      <td>2023-09-25</td>\n",
       "      <td>Truck</td>\n",
       "      <td>1863</td>\n",
       "      <td>Clear</td>\n",
       "      <td>Light</td>\n",
       "      <td>No</td>\n",
       "    </tr>\n",
       "    <tr>\n",
       "      <th>3</th>\n",
       "      <td>SHIP000003</td>\n",
       "      <td>Hyderabad</td>\n",
       "      <td>Ahmedabad</td>\n",
       "      <td>2023-04-01</td>\n",
       "      <td>2023-04-05</td>\n",
       "      <td>2023-04-05</td>\n",
       "      <td>Container</td>\n",
       "      <td>1374</td>\n",
       "      <td>Clear</td>\n",
       "      <td>Light</td>\n",
       "      <td>No</td>\n",
       "    </tr>\n",
       "    <tr>\n",
       "      <th>4</th>\n",
       "      <td>SHIP000004</td>\n",
       "      <td>Chennai</td>\n",
       "      <td>Kolkata</td>\n",
       "      <td>2023-11-24</td>\n",
       "      <td>2023-11-26</td>\n",
       "      <td>2023-11-28</td>\n",
       "      <td>Container</td>\n",
       "      <td>676</td>\n",
       "      <td>Clear</td>\n",
       "      <td>Heavy</td>\n",
       "      <td>Yes</td>\n",
       "    </tr>\n",
       "  </tbody>\n",
       "</table>\n",
       "</div>"
      ],
      "text/plain": [
       "  Shipment ID     Origin Destination Shipment Date Planned Delivery Date  \\\n",
       "0  SHIP000000     Jaipur      Mumbai    2023-04-26            2023-05-01   \n",
       "1  SHIP000001  Bangalore       Delhi    2023-02-09            2023-02-13   \n",
       "2  SHIP000002     Mumbai     Chennai    2023-09-19            2023-09-25   \n",
       "3  SHIP000003  Hyderabad   Ahmedabad    2023-04-01            2023-04-05   \n",
       "4  SHIP000004    Chennai     Kolkata    2023-11-24            2023-11-26   \n",
       "\n",
       "  Actual Delivery Date Vehicle Type  Distance (km) Weather Conditions  \\\n",
       "0           2023-05-02      Trailer           1603               Rain   \n",
       "1           2023-02-17      Trailer           1237              Storm   \n",
       "2           2023-09-25        Truck           1863              Clear   \n",
       "3           2023-04-05    Container           1374              Clear   \n",
       "4           2023-11-28    Container            676              Clear   \n",
       "\n",
       "  Traffic Conditions Delayed  \n",
       "0              Light     Yes  \n",
       "1           Moderate     Yes  \n",
       "2              Light      No  \n",
       "3              Light      No  \n",
       "4              Heavy     Yes  "
      ]
     },
     "execution_count": 2,
     "metadata": {},
     "output_type": "execute_result"
    }
   ],
   "source": [
    "df = pd.read_csv(r'data.csv')\n",
    "df.head()"
   ]
  },
  {
   "cell_type": "code",
   "execution_count": 47,
   "metadata": {
    "colab": {
     "base_uri": "https://localhost:8080/"
    },
    "id": "TvGIt8Vm-4NV",
    "outputId": "b2252cfe-4ff5-4eb1-b58d-19553173d588"
   },
   "outputs": [
    {
     "data": {
      "text/plain": [
       "(20000, 11)"
      ]
     },
     "execution_count": 47,
     "metadata": {},
     "output_type": "execute_result"
    }
   ],
   "source": [
    "df.shape"
   ]
  },
  {
   "cell_type": "code",
   "execution_count": 48,
   "metadata": {
    "colab": {
     "base_uri": "https://localhost:8080/",
     "height": 429
    },
    "id": "Lv5q-dxC_C7v",
    "outputId": "cf887043-f7d4-4499-fb78-14871f07ba31"
   },
   "outputs": [
    {
     "data": {
      "text/plain": [
       "Shipment ID                0\n",
       "Origin                     0\n",
       "Destination                0\n",
       "Shipment Date              0\n",
       "Planned Delivery Date      0\n",
       "Actual Delivery Date       0\n",
       "Vehicle Type             597\n",
       "Distance (km)              0\n",
       "Weather Conditions         0\n",
       "Traffic Conditions         0\n",
       "Delayed                    0\n",
       "dtype: int64"
      ]
     },
     "execution_count": 48,
     "metadata": {},
     "output_type": "execute_result"
    }
   ],
   "source": [
    "df.isnull().sum()"
   ]
  },
  {
   "cell_type": "code",
   "execution_count": 49,
   "metadata": {
    "colab": {
     "base_uri": "https://localhost:8080/",
     "height": 347
    },
    "id": "1h1DmNLJ0FKu",
    "outputId": "a6fc892e-f335-460e-c63f-9235dcc06eda"
   },
   "outputs": [
    {
     "data": {
      "text/html": [
       "<div>\n",
       "<style scoped>\n",
       "    .dataframe tbody tr th:only-of-type {\n",
       "        vertical-align: middle;\n",
       "    }\n",
       "\n",
       "    .dataframe tbody tr th {\n",
       "        vertical-align: top;\n",
       "    }\n",
       "\n",
       "    .dataframe thead th {\n",
       "        text-align: right;\n",
       "    }\n",
       "</style>\n",
       "<table border=\"1\" class=\"dataframe\">\n",
       "  <thead>\n",
       "    <tr style=\"text-align: right;\">\n",
       "      <th></th>\n",
       "      <th>Shipment ID</th>\n",
       "      <th>Origin</th>\n",
       "      <th>Destination</th>\n",
       "      <th>Shipment Date</th>\n",
       "      <th>Planned Delivery Date</th>\n",
       "      <th>Actual Delivery Date</th>\n",
       "      <th>Vehicle Type</th>\n",
       "      <th>Distance (km)</th>\n",
       "      <th>Weather Conditions</th>\n",
       "      <th>Traffic Conditions</th>\n",
       "      <th>Delayed</th>\n",
       "    </tr>\n",
       "  </thead>\n",
       "  <tbody>\n",
       "    <tr>\n",
       "      <th>0</th>\n",
       "      <td>SHIP000000</td>\n",
       "      <td>Jaipur</td>\n",
       "      <td>Mumbai</td>\n",
       "      <td>2023-04-26</td>\n",
       "      <td>2023-05-01</td>\n",
       "      <td>2023-05-02</td>\n",
       "      <td>Trailer</td>\n",
       "      <td>1603</td>\n",
       "      <td>Rain</td>\n",
       "      <td>Light</td>\n",
       "      <td>Yes</td>\n",
       "    </tr>\n",
       "    <tr>\n",
       "      <th>1</th>\n",
       "      <td>SHIP000001</td>\n",
       "      <td>Bangalore</td>\n",
       "      <td>Delhi</td>\n",
       "      <td>2023-02-09</td>\n",
       "      <td>2023-02-13</td>\n",
       "      <td>2023-02-17</td>\n",
       "      <td>Trailer</td>\n",
       "      <td>1237</td>\n",
       "      <td>Storm</td>\n",
       "      <td>Moderate</td>\n",
       "      <td>Yes</td>\n",
       "    </tr>\n",
       "    <tr>\n",
       "      <th>2</th>\n",
       "      <td>SHIP000002</td>\n",
       "      <td>Mumbai</td>\n",
       "      <td>Chennai</td>\n",
       "      <td>2023-09-19</td>\n",
       "      <td>2023-09-25</td>\n",
       "      <td>2023-09-25</td>\n",
       "      <td>Truck</td>\n",
       "      <td>1863</td>\n",
       "      <td>Clear</td>\n",
       "      <td>Light</td>\n",
       "      <td>No</td>\n",
       "    </tr>\n",
       "    <tr>\n",
       "      <th>3</th>\n",
       "      <td>SHIP000003</td>\n",
       "      <td>Hyderabad</td>\n",
       "      <td>Ahmedabad</td>\n",
       "      <td>2023-04-01</td>\n",
       "      <td>2023-04-05</td>\n",
       "      <td>2023-04-05</td>\n",
       "      <td>Container</td>\n",
       "      <td>1374</td>\n",
       "      <td>Clear</td>\n",
       "      <td>Light</td>\n",
       "      <td>No</td>\n",
       "    </tr>\n",
       "    <tr>\n",
       "      <th>4</th>\n",
       "      <td>SHIP000004</td>\n",
       "      <td>Chennai</td>\n",
       "      <td>Kolkata</td>\n",
       "      <td>2023-11-24</td>\n",
       "      <td>2023-11-26</td>\n",
       "      <td>2023-11-28</td>\n",
       "      <td>Container</td>\n",
       "      <td>676</td>\n",
       "      <td>Clear</td>\n",
       "      <td>Heavy</td>\n",
       "      <td>Yes</td>\n",
       "    </tr>\n",
       "  </tbody>\n",
       "</table>\n",
       "</div>"
      ],
      "text/plain": [
       "  Shipment ID     Origin Destination Shipment Date Planned Delivery Date  \\\n",
       "0  SHIP000000     Jaipur      Mumbai    2023-04-26            2023-05-01   \n",
       "1  SHIP000001  Bangalore       Delhi    2023-02-09            2023-02-13   \n",
       "2  SHIP000002     Mumbai     Chennai    2023-09-19            2023-09-25   \n",
       "3  SHIP000003  Hyderabad   Ahmedabad    2023-04-01            2023-04-05   \n",
       "4  SHIP000004    Chennai     Kolkata    2023-11-24            2023-11-26   \n",
       "\n",
       "  Actual Delivery Date Vehicle Type  Distance (km) Weather Conditions  \\\n",
       "0           2023-05-02      Trailer           1603               Rain   \n",
       "1           2023-02-17      Trailer           1237              Storm   \n",
       "2           2023-09-25        Truck           1863              Clear   \n",
       "3           2023-04-05    Container           1374              Clear   \n",
       "4           2023-11-28    Container            676              Clear   \n",
       "\n",
       "  Traffic Conditions Delayed  \n",
       "0              Light     Yes  \n",
       "1           Moderate     Yes  \n",
       "2              Light      No  \n",
       "3              Light      No  \n",
       "4              Heavy     Yes  "
      ]
     },
     "execution_count": 49,
     "metadata": {},
     "output_type": "execute_result"
    }
   ],
   "source": [
    "df.head()"
   ]
  },
  {
   "cell_type": "code",
   "execution_count": 50,
   "metadata": {
    "id": "spiuBYDv0Izl"
   },
   "outputs": [],
   "source": [
    "drop_columns=[\"Shipment ID\",\"Origin\",\"Destination\"]"
   ]
  },
  {
   "cell_type": "code",
   "execution_count": 51,
   "metadata": {
    "id": "tdXPTk4k0XhH"
   },
   "outputs": [],
   "source": [
    "df.drop(drop_columns,axis=1,inplace=True)"
   ]
  },
  {
   "cell_type": "code",
   "execution_count": 52,
   "metadata": {
    "id": "3ASfkizL1b7C"
   },
   "outputs": [],
   "source": [
    "df[\"Actual Delivery Date\"] = pd.to_datetime(df[\"Actual Delivery Date\"])\n",
    "df[\"Planned Delivery Date\"] = pd.to_datetime(df[\"Planned Delivery Date\"])\n",
    "df[\"Shipment Date\"] = pd.to_datetime(df[\"Shipment Date\"])"
   ]
  },
  {
   "cell_type": "code",
   "execution_count": 53,
   "metadata": {
    "id": "Op6NOUgz1FwA"
   },
   "outputs": [],
   "source": [
    " #df[\"Delivery Delay (days)\"] = (df[\"Actual Delivery Date\"] - df[\"Planned Delivery Date\"]).dt.days\n",
    "df[\"Planned Shipment Gap (days)\"] = (df[\"Planned Delivery Date\"] - df[\"Shipment Date\"]).dt.days\n"
   ]
  },
  {
   "cell_type": "code",
   "execution_count": 54,
   "metadata": {
    "id": "Luf9aJur1Fyz"
   },
   "outputs": [],
   "source": [
    "drop_columns=[\"Actual Delivery Date\",\"Planned Delivery Date\",\"Shipment Date\"]\n",
    "df.drop(drop_columns,axis=1,inplace=True)"
   ]
  },
  {
   "cell_type": "code",
   "execution_count": 55,
   "metadata": {},
   "outputs": [
    {
     "data": {
      "text/html": [
       "<div>\n",
       "<style scoped>\n",
       "    .dataframe tbody tr th:only-of-type {\n",
       "        vertical-align: middle;\n",
       "    }\n",
       "\n",
       "    .dataframe tbody tr th {\n",
       "        vertical-align: top;\n",
       "    }\n",
       "\n",
       "    .dataframe thead th {\n",
       "        text-align: right;\n",
       "    }\n",
       "</style>\n",
       "<table border=\"1\" class=\"dataframe\">\n",
       "  <thead>\n",
       "    <tr style=\"text-align: right;\">\n",
       "      <th></th>\n",
       "      <th>Vehicle Type</th>\n",
       "      <th>Distance (km)</th>\n",
       "      <th>Weather Conditions</th>\n",
       "      <th>Traffic Conditions</th>\n",
       "      <th>Delayed</th>\n",
       "      <th>Planned Shipment Gap (days)</th>\n",
       "    </tr>\n",
       "  </thead>\n",
       "  <tbody>\n",
       "    <tr>\n",
       "      <th>0</th>\n",
       "      <td>Trailer</td>\n",
       "      <td>1603</td>\n",
       "      <td>Rain</td>\n",
       "      <td>Light</td>\n",
       "      <td>Yes</td>\n",
       "      <td>5</td>\n",
       "    </tr>\n",
       "    <tr>\n",
       "      <th>1</th>\n",
       "      <td>Trailer</td>\n",
       "      <td>1237</td>\n",
       "      <td>Storm</td>\n",
       "      <td>Moderate</td>\n",
       "      <td>Yes</td>\n",
       "      <td>4</td>\n",
       "    </tr>\n",
       "  </tbody>\n",
       "</table>\n",
       "</div>"
      ],
      "text/plain": [
       "  Vehicle Type  Distance (km) Weather Conditions Traffic Conditions Delayed  \\\n",
       "0      Trailer           1603               Rain              Light     Yes   \n",
       "1      Trailer           1237              Storm           Moderate     Yes   \n",
       "\n",
       "   Planned Shipment Gap (days)  \n",
       "0                            5  \n",
       "1                            4  "
      ]
     },
     "execution_count": 55,
     "metadata": {},
     "output_type": "execute_result"
    }
   ],
   "source": [
    "df.head(2)"
   ]
  },
  {
   "cell_type": "code",
   "execution_count": 56,
   "metadata": {
    "id": "C58YRJ3dBJcg"
   },
   "outputs": [],
   "source": [
    "df.fillna({'Vehicle Type': df['Vehicle Type'].mode()[0]}, inplace=True)\n"
   ]
  },
  {
   "cell_type": "code",
   "execution_count": 57,
   "metadata": {
    "colab": {
     "base_uri": "https://localhost:8080/"
    },
    "id": "L6V8F85k_laf",
    "outputId": "b06b8dd8-56a2-4c1d-84fb-9870e082251c"
   },
   "outputs": [
    {
     "name": "stdout",
     "output_type": "stream",
     "text": [
      "<class 'pandas.core.frame.DataFrame'>\n",
      "RangeIndex: 20000 entries, 0 to 19999\n",
      "Data columns (total 6 columns):\n",
      " #   Column                       Non-Null Count  Dtype \n",
      "---  ------                       --------------  ----- \n",
      " 0   Vehicle Type                 20000 non-null  object\n",
      " 1   Distance (km)                20000 non-null  int64 \n",
      " 2   Weather Conditions           20000 non-null  object\n",
      " 3   Traffic Conditions           20000 non-null  object\n",
      " 4   Delayed                      20000 non-null  object\n",
      " 5   Planned Shipment Gap (days)  20000 non-null  int64 \n",
      "dtypes: int64(2), object(4)\n",
      "memory usage: 937.6+ KB\n"
     ]
    }
   ],
   "source": [
    "df.info()"
   ]
  },
  {
   "cell_type": "code",
   "execution_count": 58,
   "metadata": {
    "id": "kyM8eRX5AVUa"
   },
   "outputs": [],
   "source": [
    "X =df.drop(columns=['Delayed'])"
   ]
  },
  {
   "cell_type": "code",
   "execution_count": 59,
   "metadata": {
    "id": "Xc-NhO1bAFY2"
   },
   "outputs": [],
   "source": [
    "from sklearn.compose import ColumnTransformer\n",
    "from sklearn.preprocessing import StandardScaler\n",
    "from sklearn.impute import SimpleImputer\n",
    "from sklearn.preprocessing import OneHotEncoder, OrdinalEncoder,LabelEncoder\n",
    "from datetime import datetime"
   ]
  },
  {
   "cell_type": "code",
   "execution_count": 60,
   "metadata": {
    "id": "bpF8f7V-AGT4"
   },
   "outputs": [],
   "source": [
    "clmn = ColumnTransformer(transformers=[\n",
    "    # 1. Impute missing values\n",
    "    ('encode_weather', OneHotEncoder(drop='first'), ['Weather Conditions', 'Traffic Conditions', 'Vehicle Type']),\n",
    "    ('scale_distance', StandardScaler(), ['Distance (km)']),\n",
    "],\n",
    "remainder='passthrough')\n",
    "\n",
    "\n",
    "X_transformed = clmn.fit_transform(X)"
   ]
  },
  {
   "cell_type": "code",
   "execution_count": 61,
   "metadata": {},
   "outputs": [
    {
     "data": {
      "text/html": [
       "<div>\n",
       "<style scoped>\n",
       "    .dataframe tbody tr th:only-of-type {\n",
       "        vertical-align: middle;\n",
       "    }\n",
       "\n",
       "    .dataframe tbody tr th {\n",
       "        vertical-align: top;\n",
       "    }\n",
       "\n",
       "    .dataframe thead th {\n",
       "        text-align: right;\n",
       "    }\n",
       "</style>\n",
       "<table border=\"1\" class=\"dataframe\">\n",
       "  <thead>\n",
       "    <tr style=\"text-align: right;\">\n",
       "      <th></th>\n",
       "      <th>Vehicle Type</th>\n",
       "      <th>Distance (km)</th>\n",
       "      <th>Weather Conditions</th>\n",
       "      <th>Traffic Conditions</th>\n",
       "      <th>Planned Shipment Gap (days)</th>\n",
       "    </tr>\n",
       "  </thead>\n",
       "  <tbody>\n",
       "    <tr>\n",
       "      <th>0</th>\n",
       "      <td>Trailer</td>\n",
       "      <td>1603</td>\n",
       "      <td>Rain</td>\n",
       "      <td>Light</td>\n",
       "      <td>5</td>\n",
       "    </tr>\n",
       "    <tr>\n",
       "      <th>1</th>\n",
       "      <td>Trailer</td>\n",
       "      <td>1237</td>\n",
       "      <td>Storm</td>\n",
       "      <td>Moderate</td>\n",
       "      <td>4</td>\n",
       "    </tr>\n",
       "  </tbody>\n",
       "</table>\n",
       "</div>"
      ],
      "text/plain": [
       "  Vehicle Type  Distance (km) Weather Conditions Traffic Conditions  \\\n",
       "0      Trailer           1603               Rain              Light   \n",
       "1      Trailer           1237              Storm           Moderate   \n",
       "\n",
       "   Planned Shipment Gap (days)  \n",
       "0                            5  \n",
       "1                            4  "
      ]
     },
     "execution_count": 61,
     "metadata": {},
     "output_type": "execute_result"
    }
   ],
   "source": [
    "X.head(2)"
   ]
  },
  {
   "cell_type": "code",
   "execution_count": 62,
   "metadata": {},
   "outputs": [
    {
     "data": {
      "text/plain": [
       "array([0.       , 1.       , 0.       , 1.       , 0.       , 0.       ,\n",
       "       1.       , 0.       , 0.9628031, 5.       ])"
      ]
     },
     "execution_count": 62,
     "metadata": {},
     "output_type": "execute_result"
    }
   ],
   "source": [
    "X_transformed[0]"
   ]
  },
  {
   "cell_type": "code",
   "execution_count": 63,
   "metadata": {
    "colab": {
     "base_uri": "https://localhost:8080/",
     "height": 117
    },
    "id": "1vu42eah2U0D",
    "outputId": "74d4fd1a-1a5c-43e8-d585-19cc43c1c7dc"
   },
   "outputs": [
    {
     "data": {
      "text/html": [
       "<style>#sk-container-id-1 {\n",
       "  /* Definition of color scheme common for light and dark mode */\n",
       "  --sklearn-color-text: black;\n",
       "  --sklearn-color-line: gray;\n",
       "  /* Definition of color scheme for unfitted estimators */\n",
       "  --sklearn-color-unfitted-level-0: #fff5e6;\n",
       "  --sklearn-color-unfitted-level-1: #f6e4d2;\n",
       "  --sklearn-color-unfitted-level-2: #ffe0b3;\n",
       "  --sklearn-color-unfitted-level-3: chocolate;\n",
       "  /* Definition of color scheme for fitted estimators */\n",
       "  --sklearn-color-fitted-level-0: #f0f8ff;\n",
       "  --sklearn-color-fitted-level-1: #d4ebff;\n",
       "  --sklearn-color-fitted-level-2: #b3dbfd;\n",
       "  --sklearn-color-fitted-level-3: cornflowerblue;\n",
       "\n",
       "  /* Specific color for light theme */\n",
       "  --sklearn-color-text-on-default-background: var(--sg-text-color, var(--theme-code-foreground, var(--jp-content-font-color1, black)));\n",
       "  --sklearn-color-background: var(--sg-background-color, var(--theme-background, var(--jp-layout-color0, white)));\n",
       "  --sklearn-color-border-box: var(--sg-text-color, var(--theme-code-foreground, var(--jp-content-font-color1, black)));\n",
       "  --sklearn-color-icon: #696969;\n",
       "\n",
       "  @media (prefers-color-scheme: dark) {\n",
       "    /* Redefinition of color scheme for dark theme */\n",
       "    --sklearn-color-text-on-default-background: var(--sg-text-color, var(--theme-code-foreground, var(--jp-content-font-color1, white)));\n",
       "    --sklearn-color-background: var(--sg-background-color, var(--theme-background, var(--jp-layout-color0, #111)));\n",
       "    --sklearn-color-border-box: var(--sg-text-color, var(--theme-code-foreground, var(--jp-content-font-color1, white)));\n",
       "    --sklearn-color-icon: #878787;\n",
       "  }\n",
       "}\n",
       "\n",
       "#sk-container-id-1 {\n",
       "  color: var(--sklearn-color-text);\n",
       "}\n",
       "\n",
       "#sk-container-id-1 pre {\n",
       "  padding: 0;\n",
       "}\n",
       "\n",
       "#sk-container-id-1 input.sk-hidden--visually {\n",
       "  border: 0;\n",
       "  clip: rect(1px 1px 1px 1px);\n",
       "  clip: rect(1px, 1px, 1px, 1px);\n",
       "  height: 1px;\n",
       "  margin: -1px;\n",
       "  overflow: hidden;\n",
       "  padding: 0;\n",
       "  position: absolute;\n",
       "  width: 1px;\n",
       "}\n",
       "\n",
       "#sk-container-id-1 div.sk-dashed-wrapped {\n",
       "  border: 1px dashed var(--sklearn-color-line);\n",
       "  margin: 0 0.4em 0.5em 0.4em;\n",
       "  box-sizing: border-box;\n",
       "  padding-bottom: 0.4em;\n",
       "  background-color: var(--sklearn-color-background);\n",
       "}\n",
       "\n",
       "#sk-container-id-1 div.sk-container {\n",
       "  /* jupyter's `normalize.less` sets `[hidden] { display: none; }`\n",
       "     but bootstrap.min.css set `[hidden] { display: none !important; }`\n",
       "     so we also need the `!important` here to be able to override the\n",
       "     default hidden behavior on the sphinx rendered scikit-learn.org.\n",
       "     See: https://github.com/scikit-learn/scikit-learn/issues/21755 */\n",
       "  display: inline-block !important;\n",
       "  position: relative;\n",
       "}\n",
       "\n",
       "#sk-container-id-1 div.sk-text-repr-fallback {\n",
       "  display: none;\n",
       "}\n",
       "\n",
       "div.sk-parallel-item,\n",
       "div.sk-serial,\n",
       "div.sk-item {\n",
       "  /* draw centered vertical line to link estimators */\n",
       "  background-image: linear-gradient(var(--sklearn-color-text-on-default-background), var(--sklearn-color-text-on-default-background));\n",
       "  background-size: 2px 100%;\n",
       "  background-repeat: no-repeat;\n",
       "  background-position: center center;\n",
       "}\n",
       "\n",
       "/* Parallel-specific style estimator block */\n",
       "\n",
       "#sk-container-id-1 div.sk-parallel-item::after {\n",
       "  content: \"\";\n",
       "  width: 100%;\n",
       "  border-bottom: 2px solid var(--sklearn-color-text-on-default-background);\n",
       "  flex-grow: 1;\n",
       "}\n",
       "\n",
       "#sk-container-id-1 div.sk-parallel {\n",
       "  display: flex;\n",
       "  align-items: stretch;\n",
       "  justify-content: center;\n",
       "  background-color: var(--sklearn-color-background);\n",
       "  position: relative;\n",
       "}\n",
       "\n",
       "#sk-container-id-1 div.sk-parallel-item {\n",
       "  display: flex;\n",
       "  flex-direction: column;\n",
       "}\n",
       "\n",
       "#sk-container-id-1 div.sk-parallel-item:first-child::after {\n",
       "  align-self: flex-end;\n",
       "  width: 50%;\n",
       "}\n",
       "\n",
       "#sk-container-id-1 div.sk-parallel-item:last-child::after {\n",
       "  align-self: flex-start;\n",
       "  width: 50%;\n",
       "}\n",
       "\n",
       "#sk-container-id-1 div.sk-parallel-item:only-child::after {\n",
       "  width: 0;\n",
       "}\n",
       "\n",
       "/* Serial-specific style estimator block */\n",
       "\n",
       "#sk-container-id-1 div.sk-serial {\n",
       "  display: flex;\n",
       "  flex-direction: column;\n",
       "  align-items: center;\n",
       "  background-color: var(--sklearn-color-background);\n",
       "  padding-right: 1em;\n",
       "  padding-left: 1em;\n",
       "}\n",
       "\n",
       "\n",
       "/* Toggleable style: style used for estimator/Pipeline/ColumnTransformer box that is\n",
       "clickable and can be expanded/collapsed.\n",
       "- Pipeline and ColumnTransformer use this feature and define the default style\n",
       "- Estimators will overwrite some part of the style using the `sk-estimator` class\n",
       "*/\n",
       "\n",
       "/* Pipeline and ColumnTransformer style (default) */\n",
       "\n",
       "#sk-container-id-1 div.sk-toggleable {\n",
       "  /* Default theme specific background. It is overwritten whether we have a\n",
       "  specific estimator or a Pipeline/ColumnTransformer */\n",
       "  background-color: var(--sklearn-color-background);\n",
       "}\n",
       "\n",
       "/* Toggleable label */\n",
       "#sk-container-id-1 label.sk-toggleable__label {\n",
       "  cursor: pointer;\n",
       "  display: block;\n",
       "  width: 100%;\n",
       "  margin-bottom: 0;\n",
       "  padding: 0.5em;\n",
       "  box-sizing: border-box;\n",
       "  text-align: center;\n",
       "}\n",
       "\n",
       "#sk-container-id-1 label.sk-toggleable__label-arrow:before {\n",
       "  /* Arrow on the left of the label */\n",
       "  content: \"▸\";\n",
       "  float: left;\n",
       "  margin-right: 0.25em;\n",
       "  color: var(--sklearn-color-icon);\n",
       "}\n",
       "\n",
       "#sk-container-id-1 label.sk-toggleable__label-arrow:hover:before {\n",
       "  color: var(--sklearn-color-text);\n",
       "}\n",
       "\n",
       "/* Toggleable content - dropdown */\n",
       "\n",
       "#sk-container-id-1 div.sk-toggleable__content {\n",
       "  max-height: 0;\n",
       "  max-width: 0;\n",
       "  overflow: hidden;\n",
       "  text-align: left;\n",
       "  /* unfitted */\n",
       "  background-color: var(--sklearn-color-unfitted-level-0);\n",
       "}\n",
       "\n",
       "#sk-container-id-1 div.sk-toggleable__content.fitted {\n",
       "  /* fitted */\n",
       "  background-color: var(--sklearn-color-fitted-level-0);\n",
       "}\n",
       "\n",
       "#sk-container-id-1 div.sk-toggleable__content pre {\n",
       "  margin: 0.2em;\n",
       "  border-radius: 0.25em;\n",
       "  color: var(--sklearn-color-text);\n",
       "  /* unfitted */\n",
       "  background-color: var(--sklearn-color-unfitted-level-0);\n",
       "}\n",
       "\n",
       "#sk-container-id-1 div.sk-toggleable__content.fitted pre {\n",
       "  /* unfitted */\n",
       "  background-color: var(--sklearn-color-fitted-level-0);\n",
       "}\n",
       "\n",
       "#sk-container-id-1 input.sk-toggleable__control:checked~div.sk-toggleable__content {\n",
       "  /* Expand drop-down */\n",
       "  max-height: 200px;\n",
       "  max-width: 100%;\n",
       "  overflow: auto;\n",
       "}\n",
       "\n",
       "#sk-container-id-1 input.sk-toggleable__control:checked~label.sk-toggleable__label-arrow:before {\n",
       "  content: \"▾\";\n",
       "}\n",
       "\n",
       "/* Pipeline/ColumnTransformer-specific style */\n",
       "\n",
       "#sk-container-id-1 div.sk-label input.sk-toggleable__control:checked~label.sk-toggleable__label {\n",
       "  color: var(--sklearn-color-text);\n",
       "  background-color: var(--sklearn-color-unfitted-level-2);\n",
       "}\n",
       "\n",
       "#sk-container-id-1 div.sk-label.fitted input.sk-toggleable__control:checked~label.sk-toggleable__label {\n",
       "  background-color: var(--sklearn-color-fitted-level-2);\n",
       "}\n",
       "\n",
       "/* Estimator-specific style */\n",
       "\n",
       "/* Colorize estimator box */\n",
       "#sk-container-id-1 div.sk-estimator input.sk-toggleable__control:checked~label.sk-toggleable__label {\n",
       "  /* unfitted */\n",
       "  background-color: var(--sklearn-color-unfitted-level-2);\n",
       "}\n",
       "\n",
       "#sk-container-id-1 div.sk-estimator.fitted input.sk-toggleable__control:checked~label.sk-toggleable__label {\n",
       "  /* fitted */\n",
       "  background-color: var(--sklearn-color-fitted-level-2);\n",
       "}\n",
       "\n",
       "#sk-container-id-1 div.sk-label label.sk-toggleable__label,\n",
       "#sk-container-id-1 div.sk-label label {\n",
       "  /* The background is the default theme color */\n",
       "  color: var(--sklearn-color-text-on-default-background);\n",
       "}\n",
       "\n",
       "/* On hover, darken the color of the background */\n",
       "#sk-container-id-1 div.sk-label:hover label.sk-toggleable__label {\n",
       "  color: var(--sklearn-color-text);\n",
       "  background-color: var(--sklearn-color-unfitted-level-2);\n",
       "}\n",
       "\n",
       "/* Label box, darken color on hover, fitted */\n",
       "#sk-container-id-1 div.sk-label.fitted:hover label.sk-toggleable__label.fitted {\n",
       "  color: var(--sklearn-color-text);\n",
       "  background-color: var(--sklearn-color-fitted-level-2);\n",
       "}\n",
       "\n",
       "/* Estimator label */\n",
       "\n",
       "#sk-container-id-1 div.sk-label label {\n",
       "  font-family: monospace;\n",
       "  font-weight: bold;\n",
       "  display: inline-block;\n",
       "  line-height: 1.2em;\n",
       "}\n",
       "\n",
       "#sk-container-id-1 div.sk-label-container {\n",
       "  text-align: center;\n",
       "}\n",
       "\n",
       "/* Estimator-specific */\n",
       "#sk-container-id-1 div.sk-estimator {\n",
       "  font-family: monospace;\n",
       "  border: 1px dotted var(--sklearn-color-border-box);\n",
       "  border-radius: 0.25em;\n",
       "  box-sizing: border-box;\n",
       "  margin-bottom: 0.5em;\n",
       "  /* unfitted */\n",
       "  background-color: var(--sklearn-color-unfitted-level-0);\n",
       "}\n",
       "\n",
       "#sk-container-id-1 div.sk-estimator.fitted {\n",
       "  /* fitted */\n",
       "  background-color: var(--sklearn-color-fitted-level-0);\n",
       "}\n",
       "\n",
       "/* on hover */\n",
       "#sk-container-id-1 div.sk-estimator:hover {\n",
       "  /* unfitted */\n",
       "  background-color: var(--sklearn-color-unfitted-level-2);\n",
       "}\n",
       "\n",
       "#sk-container-id-1 div.sk-estimator.fitted:hover {\n",
       "  /* fitted */\n",
       "  background-color: var(--sklearn-color-fitted-level-2);\n",
       "}\n",
       "\n",
       "/* Specification for estimator info (e.g. \"i\" and \"?\") */\n",
       "\n",
       "/* Common style for \"i\" and \"?\" */\n",
       "\n",
       ".sk-estimator-doc-link,\n",
       "a:link.sk-estimator-doc-link,\n",
       "a:visited.sk-estimator-doc-link {\n",
       "  float: right;\n",
       "  font-size: smaller;\n",
       "  line-height: 1em;\n",
       "  font-family: monospace;\n",
       "  background-color: var(--sklearn-color-background);\n",
       "  border-radius: 1em;\n",
       "  height: 1em;\n",
       "  width: 1em;\n",
       "  text-decoration: none !important;\n",
       "  margin-left: 1ex;\n",
       "  /* unfitted */\n",
       "  border: var(--sklearn-color-unfitted-level-1) 1pt solid;\n",
       "  color: var(--sklearn-color-unfitted-level-1);\n",
       "}\n",
       "\n",
       ".sk-estimator-doc-link.fitted,\n",
       "a:link.sk-estimator-doc-link.fitted,\n",
       "a:visited.sk-estimator-doc-link.fitted {\n",
       "  /* fitted */\n",
       "  border: var(--sklearn-color-fitted-level-1) 1pt solid;\n",
       "  color: var(--sklearn-color-fitted-level-1);\n",
       "}\n",
       "\n",
       "/* On hover */\n",
       "div.sk-estimator:hover .sk-estimator-doc-link:hover,\n",
       ".sk-estimator-doc-link:hover,\n",
       "div.sk-label-container:hover .sk-estimator-doc-link:hover,\n",
       ".sk-estimator-doc-link:hover {\n",
       "  /* unfitted */\n",
       "  background-color: var(--sklearn-color-unfitted-level-3);\n",
       "  color: var(--sklearn-color-background);\n",
       "  text-decoration: none;\n",
       "}\n",
       "\n",
       "div.sk-estimator.fitted:hover .sk-estimator-doc-link.fitted:hover,\n",
       ".sk-estimator-doc-link.fitted:hover,\n",
       "div.sk-label-container:hover .sk-estimator-doc-link.fitted:hover,\n",
       ".sk-estimator-doc-link.fitted:hover {\n",
       "  /* fitted */\n",
       "  background-color: var(--sklearn-color-fitted-level-3);\n",
       "  color: var(--sklearn-color-background);\n",
       "  text-decoration: none;\n",
       "}\n",
       "\n",
       "/* Span, style for the box shown on hovering the info icon */\n",
       ".sk-estimator-doc-link span {\n",
       "  display: none;\n",
       "  z-index: 9999;\n",
       "  position: relative;\n",
       "  font-weight: normal;\n",
       "  right: .2ex;\n",
       "  padding: .5ex;\n",
       "  margin: .5ex;\n",
       "  width: min-content;\n",
       "  min-width: 20ex;\n",
       "  max-width: 50ex;\n",
       "  color: var(--sklearn-color-text);\n",
       "  box-shadow: 2pt 2pt 4pt #999;\n",
       "  /* unfitted */\n",
       "  background: var(--sklearn-color-unfitted-level-0);\n",
       "  border: .5pt solid var(--sklearn-color-unfitted-level-3);\n",
       "}\n",
       "\n",
       ".sk-estimator-doc-link.fitted span {\n",
       "  /* fitted */\n",
       "  background: var(--sklearn-color-fitted-level-0);\n",
       "  border: var(--sklearn-color-fitted-level-3);\n",
       "}\n",
       "\n",
       ".sk-estimator-doc-link:hover span {\n",
       "  display: block;\n",
       "}\n",
       "\n",
       "/* \"?\"-specific style due to the `<a>` HTML tag */\n",
       "\n",
       "#sk-container-id-1 a.estimator_doc_link {\n",
       "  float: right;\n",
       "  font-size: 1rem;\n",
       "  line-height: 1em;\n",
       "  font-family: monospace;\n",
       "  background-color: var(--sklearn-color-background);\n",
       "  border-radius: 1rem;\n",
       "  height: 1rem;\n",
       "  width: 1rem;\n",
       "  text-decoration: none;\n",
       "  /* unfitted */\n",
       "  color: var(--sklearn-color-unfitted-level-1);\n",
       "  border: var(--sklearn-color-unfitted-level-1) 1pt solid;\n",
       "}\n",
       "\n",
       "#sk-container-id-1 a.estimator_doc_link.fitted {\n",
       "  /* fitted */\n",
       "  border: var(--sklearn-color-fitted-level-1) 1pt solid;\n",
       "  color: var(--sklearn-color-fitted-level-1);\n",
       "}\n",
       "\n",
       "/* On hover */\n",
       "#sk-container-id-1 a.estimator_doc_link:hover {\n",
       "  /* unfitted */\n",
       "  background-color: var(--sklearn-color-unfitted-level-3);\n",
       "  color: var(--sklearn-color-background);\n",
       "  text-decoration: none;\n",
       "}\n",
       "\n",
       "#sk-container-id-1 a.estimator_doc_link.fitted:hover {\n",
       "  /* fitted */\n",
       "  background-color: var(--sklearn-color-fitted-level-3);\n",
       "}\n",
       "</style><div id=\"sk-container-id-1\" class=\"sk-top-container\"><div class=\"sk-text-repr-fallback\"><pre>ColumnTransformer(remainder=&#x27;passthrough&#x27;,\n",
       "                  transformers=[(&#x27;encode_weather&#x27;, OneHotEncoder(drop=&#x27;first&#x27;),\n",
       "                                 [&#x27;Weather Conditions&#x27;, &#x27;Traffic Conditions&#x27;,\n",
       "                                  &#x27;Vehicle Type&#x27;]),\n",
       "                                (&#x27;scale_distance&#x27;, StandardScaler(),\n",
       "                                 [&#x27;Distance (km)&#x27;])])</pre><b>In a Jupyter environment, please rerun this cell to show the HTML representation or trust the notebook. <br />On GitHub, the HTML representation is unable to render, please try loading this page with nbviewer.org.</b></div><div class=\"sk-container\" hidden><div class=\"sk-item sk-dashed-wrapped\"><div class=\"sk-label-container\"><div class=\"sk-label fitted sk-toggleable\"><input class=\"sk-toggleable__control sk-hidden--visually\" id=\"sk-estimator-id-1\" type=\"checkbox\" ><label for=\"sk-estimator-id-1\" class=\"sk-toggleable__label fitted sk-toggleable__label-arrow fitted\">&nbsp;&nbsp;ColumnTransformer<a class=\"sk-estimator-doc-link fitted\" rel=\"noreferrer\" target=\"_blank\" href=\"https://scikit-learn.org/1.4/modules/generated/sklearn.compose.ColumnTransformer.html\">?<span>Documentation for ColumnTransformer</span></a><span class=\"sk-estimator-doc-link fitted\">i<span>Fitted</span></span></label><div class=\"sk-toggleable__content fitted\"><pre>ColumnTransformer(remainder=&#x27;passthrough&#x27;,\n",
       "                  transformers=[(&#x27;encode_weather&#x27;, OneHotEncoder(drop=&#x27;first&#x27;),\n",
       "                                 [&#x27;Weather Conditions&#x27;, &#x27;Traffic Conditions&#x27;,\n",
       "                                  &#x27;Vehicle Type&#x27;]),\n",
       "                                (&#x27;scale_distance&#x27;, StandardScaler(),\n",
       "                                 [&#x27;Distance (km)&#x27;])])</pre></div> </div></div><div class=\"sk-parallel\"><div class=\"sk-parallel-item\"><div class=\"sk-item\"><div class=\"sk-label-container\"><div class=\"sk-label fitted sk-toggleable\"><input class=\"sk-toggleable__control sk-hidden--visually\" id=\"sk-estimator-id-2\" type=\"checkbox\" ><label for=\"sk-estimator-id-2\" class=\"sk-toggleable__label fitted sk-toggleable__label-arrow fitted\">encode_weather</label><div class=\"sk-toggleable__content fitted\"><pre>[&#x27;Weather Conditions&#x27;, &#x27;Traffic Conditions&#x27;, &#x27;Vehicle Type&#x27;]</pre></div> </div></div><div class=\"sk-serial\"><div class=\"sk-item\"><div class=\"sk-estimator fitted sk-toggleable\"><input class=\"sk-toggleable__control sk-hidden--visually\" id=\"sk-estimator-id-3\" type=\"checkbox\" ><label for=\"sk-estimator-id-3\" class=\"sk-toggleable__label fitted sk-toggleable__label-arrow fitted\">&nbsp;OneHotEncoder<a class=\"sk-estimator-doc-link fitted\" rel=\"noreferrer\" target=\"_blank\" href=\"https://scikit-learn.org/1.4/modules/generated/sklearn.preprocessing.OneHotEncoder.html\">?<span>Documentation for OneHotEncoder</span></a></label><div class=\"sk-toggleable__content fitted\"><pre>OneHotEncoder(drop=&#x27;first&#x27;)</pre></div> </div></div></div></div></div><div class=\"sk-parallel-item\"><div class=\"sk-item\"><div class=\"sk-label-container\"><div class=\"sk-label fitted sk-toggleable\"><input class=\"sk-toggleable__control sk-hidden--visually\" id=\"sk-estimator-id-4\" type=\"checkbox\" ><label for=\"sk-estimator-id-4\" class=\"sk-toggleable__label fitted sk-toggleable__label-arrow fitted\">scale_distance</label><div class=\"sk-toggleable__content fitted\"><pre>[&#x27;Distance (km)&#x27;]</pre></div> </div></div><div class=\"sk-serial\"><div class=\"sk-item\"><div class=\"sk-estimator fitted sk-toggleable\"><input class=\"sk-toggleable__control sk-hidden--visually\" id=\"sk-estimator-id-5\" type=\"checkbox\" ><label for=\"sk-estimator-id-5\" class=\"sk-toggleable__label fitted sk-toggleable__label-arrow fitted\">&nbsp;StandardScaler<a class=\"sk-estimator-doc-link fitted\" rel=\"noreferrer\" target=\"_blank\" href=\"https://scikit-learn.org/1.4/modules/generated/sklearn.preprocessing.StandardScaler.html\">?<span>Documentation for StandardScaler</span></a></label><div class=\"sk-toggleable__content fitted\"><pre>StandardScaler()</pre></div> </div></div></div></div></div><div class=\"sk-parallel-item\"><div class=\"sk-item\"><div class=\"sk-label-container\"><div class=\"sk-label fitted sk-toggleable\"><input class=\"sk-toggleable__control sk-hidden--visually\" id=\"sk-estimator-id-6\" type=\"checkbox\" ><label for=\"sk-estimator-id-6\" class=\"sk-toggleable__label fitted sk-toggleable__label-arrow fitted\">remainder</label><div class=\"sk-toggleable__content fitted\"><pre>[&#x27;Planned Shipment Gap (days)&#x27;]</pre></div> </div></div><div class=\"sk-serial\"><div class=\"sk-item\"><div class=\"sk-estimator fitted sk-toggleable\"><input class=\"sk-toggleable__control sk-hidden--visually\" id=\"sk-estimator-id-7\" type=\"checkbox\" ><label for=\"sk-estimator-id-7\" class=\"sk-toggleable__label fitted sk-toggleable__label-arrow fitted\">passthrough</label><div class=\"sk-toggleable__content fitted\"><pre>passthrough</pre></div> </div></div></div></div></div></div></div></div></div>"
      ],
      "text/plain": [
       "ColumnTransformer(remainder='passthrough',\n",
       "                  transformers=[('encode_weather', OneHotEncoder(drop='first'),\n",
       "                                 ['Weather Conditions', 'Traffic Conditions',\n",
       "                                  'Vehicle Type']),\n",
       "                                ('scale_distance', StandardScaler(),\n",
       "                                 ['Distance (km)'])])"
      ]
     },
     "execution_count": 63,
     "metadata": {},
     "output_type": "execute_result"
    }
   ],
   "source": [
    "clmn"
   ]
  },
  {
   "cell_type": "code",
   "execution_count": 64,
   "metadata": {
    "id": "PYtiEZbz-FqQ"
   },
   "outputs": [],
   "source": [
    "from sklearn.model_selection import train_test_split"
   ]
  },
  {
   "cell_type": "code",
   "execution_count": 65,
   "metadata": {
    "id": "H_M3P9kt-pLF"
   },
   "outputs": [],
   "source": [
    "X = X_transformed\n",
    "y = df['Delayed']\n",
    "\n",
    "from sklearn.preprocessing import LabelEncoder\n",
    "le = LabelEncoder()\n",
    "y_encoded = le.fit_transform(y)"
   ]
  },
  {
   "cell_type": "code",
   "execution_count": 66,
   "metadata": {
    "id": "4c9FoguW-5bE"
   },
   "outputs": [],
   "source": [
    "X_train, X_test, y_train, y_test = train_test_split(X, y_encoded, test_size=0.2, random_state=24)\n"
   ]
  },
  {
   "cell_type": "code",
   "execution_count": 67,
   "metadata": {
    "colab": {
     "base_uri": "https://localhost:8080/"
    },
    "id": "3IFaAuRBCqJ8",
    "outputId": "e6840244-1c7d-4374-9f1f-add892a54309"
   },
   "outputs": [
    {
     "data": {
      "text/plain": [
       "array([ 0.       ,  1.       ,  0.       ,  1.       ,  0.       ,\n",
       "        0.       ,  0.       ,  1.       , -0.8289989,  2.       ])"
      ]
     },
     "execution_count": 67,
     "metadata": {},
     "output_type": "execute_result"
    }
   ],
   "source": [
    "X_train[0]\n"
   ]
  },
  {
   "cell_type": "code",
   "execution_count": 68,
   "metadata": {
    "colab": {
     "base_uri": "https://localhost:8080/"
    },
    "id": "T6h532rqQw0D",
    "outputId": "cbf9f94f-8e8b-4321-f702-a6397604f2f2"
   },
   "outputs": [
    {
     "name": "stdout",
     "output_type": "stream",
     "text": [
      "Accuracy: 0.91175\n",
      "[0.914375  0.9215625 0.9159375 0.9225    0.9175   ]\n",
      "              precision    recall  f1-score   support\n",
      "\n",
      "           0       0.74      1.00      0.85      1027\n",
      "           1       1.00      0.88      0.94      2973\n",
      "\n",
      "    accuracy                           0.91      4000\n",
      "   macro avg       0.87      0.94      0.90      4000\n",
      "weighted avg       0.93      0.91      0.92      4000\n",
      "\n"
     ]
    }
   ],
   "source": [
    "from sklearn.linear_model import LogisticRegression\n",
    "from sklearn.model_selection import cross_val_score\n",
    "model_log = LogisticRegression()\n",
    "model_log.fit(X_train,y_train)\n",
    "predictions_log = model_log.predict(X_test)\n",
    "\n",
    "\n",
    "\n",
    "from sklearn.metrics import accuracy_score,classification_report\n",
    "\n",
    "accuracy = accuracy_score(y_test, predictions_log)\n",
    "print(\"Accuracy:\", accuracy)\n",
    "\n",
    "\n",
    "cross_val_log = cross_val_score(model_log, X_train, y_train, cv=5)\n",
    "print(cross_val_log)\n",
    "\n",
    "\n",
    "\n",
    "print(classification_report(y_test, predictions_log))\n",
    "\n"
   ]
  },
  {
   "cell_type": "code",
   "execution_count": 69,
   "metadata": {
    "colab": {
     "base_uri": "https://localhost:8080/"
    },
    "id": "faF2-bEoZrdH",
    "outputId": "3962d9a5-be88-49c0-adad-0ada7a2030b8"
   },
   "outputs": [
    {
     "name": "stdout",
     "output_type": "stream",
     "text": [
      "Accuracy: 0.91175\n",
      "[0.914375  0.921875  0.915625  0.9221875 0.9175   ]\n",
      "              precision    recall  f1-score   support\n",
      "\n",
      "           0       0.74      1.00      0.85      1027\n",
      "           1       1.00      0.88      0.94      2973\n",
      "\n",
      "    accuracy                           0.91      4000\n",
      "   macro avg       0.87      0.94      0.90      4000\n",
      "weighted avg       0.93      0.91      0.92      4000\n",
      "\n"
     ]
    }
   ],
   "source": [
    "from sklearn.svm import SVC\n",
    "model_svc = SVC()\n",
    "model_svc.fit(X_train, y_train)\n",
    "predictions_svc = model_svc.predict(X_test)\n",
    "\n",
    "from sklearn.metrics import accuracy_score\n",
    "\n",
    "accuracy = accuracy_score(y_test, predictions_svc)\n",
    "print(\"Accuracy:\", accuracy)\n",
    "\n",
    "\n",
    "cross_val_svc = cross_val_score(model_svc, X_train, y_train, cv=5)\n",
    "print(cross_val_svc)\n",
    "\n",
    "\n",
    "print(classification_report(y_test, predictions_svc))\n"
   ]
  },
  {
   "cell_type": "code",
   "execution_count": 70,
   "metadata": {
    "id": "fcQFE1uPaQk9"
   },
   "outputs": [
    {
     "name": "stdout",
     "output_type": "stream",
     "text": [
      "Accuracy: 0.874\n",
      "[0.875625  0.886875  0.876875  0.8828125 0.87625  ]\n",
      "              precision    recall  f1-score   support\n",
      "\n",
      "           0       0.74      0.79      0.76      1027\n",
      "           1       0.92      0.90      0.91      2973\n",
      "\n",
      "    accuracy                           0.87      4000\n",
      "   macro avg       0.83      0.85      0.84      4000\n",
      "weighted avg       0.88      0.87      0.88      4000\n",
      "\n"
     ]
    }
   ],
   "source": [
    "from sklearn.ensemble import RandomForestClassifier\n",
    "model_rf = RandomForestClassifier()\n",
    "model_rf.fit(X_train, y_train)\n",
    "predictions_rf = model_rf.predict(X_test)\n",
    "\n",
    "from sklearn.metrics import accuracy_score\n",
    "\n",
    "accuracy = accuracy_score(y_test, predictions_rf)\n",
    "print(\"Accuracy:\", accuracy)\n",
    "\n",
    "\n",
    "cross_val_rf = cross_val_score(model_rf, X_train, y_train, cv=5)\n",
    "print(cross_val_rf)\n",
    "\n",
    "\n",
    "print(classification_report(y_test, predictions_rf))"
   ]
  },
  {
   "cell_type": "code",
   "execution_count": 71,
   "metadata": {
    "id": "4-Uu-ceaaa-i"
   },
   "outputs": [
    {
     "name": "stdout",
     "output_type": "stream",
     "text": [
      "Accuracy: 0.90625\n",
      "[0.9084375 0.9178125 0.9159375 0.9196875 0.9125   ]\n",
      "              precision    recall  f1-score   support\n",
      "\n",
      "           0       0.74      0.97      0.84      1027\n",
      "           1       0.99      0.88      0.93      2973\n",
      "\n",
      "    accuracy                           0.91      4000\n",
      "   macro avg       0.87      0.93      0.89      4000\n",
      "weighted avg       0.93      0.91      0.91      4000\n",
      "\n"
     ]
    }
   ],
   "source": [
    "from xgboost import XGBClassifier\n",
    "from sklearn.metrics import accuracy_score, classification_report\n",
    "from sklearn.model_selection import cross_val_score\n",
    "\n",
    "model_xgb = XGBClassifier()\n",
    "model_xgb.fit(X_train, y_train)\n",
    "predictions_xgb = model_xgb.predict(X_test)\n",
    "\n",
    "accuracy = accuracy_score(y_test, predictions_xgb)\n",
    "print(\"Accuracy:\", accuracy)\n",
    "\n",
    "cross_val_xgb = cross_val_score(model_xgb, X_train, y_train, cv=5)\n",
    "print(cross_val_xgb)\n",
    "\n",
    "print(classification_report(y_test, predictions_xgb))\n"
   ]
  },
  {
   "cell_type": "code",
   "execution_count": 72,
   "metadata": {
    "id": "JmguEZTCc-Bi"
   },
   "outputs": [],
   "source": [
    "import pickle\n",
    "\n",
    "# Save the transformations\n",
    "with open('column_transformer.pkl', 'wb') as f:\n",
    "    pickle.dump(clmn, f)\n",
    "\n",
    "# Save the Logistic Regression model\n",
    "with open('model_log.pkl', 'wb') as f:\n",
    "    pickle.dump(model_log, f)"
   ]
  },
  {
   "cell_type": "code",
   "execution_count": 73,
   "metadata": {},
   "outputs": [
    {
     "data": {
      "text/html": [
       "<div>\n",
       "<style scoped>\n",
       "    .dataframe tbody tr th:only-of-type {\n",
       "        vertical-align: middle;\n",
       "    }\n",
       "\n",
       "    .dataframe tbody tr th {\n",
       "        vertical-align: top;\n",
       "    }\n",
       "\n",
       "    .dataframe thead th {\n",
       "        text-align: right;\n",
       "    }\n",
       "</style>\n",
       "<table border=\"1\" class=\"dataframe\">\n",
       "  <thead>\n",
       "    <tr style=\"text-align: right;\">\n",
       "      <th></th>\n",
       "      <th>Origin</th>\n",
       "      <th>Destination</th>\n",
       "      <th>Shipment Date</th>\n",
       "      <th>Planned Delivery Date</th>\n",
       "      <th>Actual Delivery Date</th>\n",
       "      <th>Vehicle Type</th>\n",
       "      <th>Distance (km)</th>\n",
       "      <th>Weather Conditions</th>\n",
       "      <th>Traffic Conditions</th>\n",
       "      <th>Delayed</th>\n",
       "    </tr>\n",
       "  </thead>\n",
       "  <tbody>\n",
       "    <tr>\n",
       "      <th>0</th>\n",
       "      <td>Jaipur</td>\n",
       "      <td>Mumbai</td>\n",
       "      <td>2023-04-26</td>\n",
       "      <td>2023-05-01</td>\n",
       "      <td>2023-05-02</td>\n",
       "      <td>Trailer</td>\n",
       "      <td>1603</td>\n",
       "      <td>Rain</td>\n",
       "      <td>Light</td>\n",
       "      <td>Yes</td>\n",
       "    </tr>\n",
       "    <tr>\n",
       "      <th>1</th>\n",
       "      <td>Bangalore</td>\n",
       "      <td>Delhi</td>\n",
       "      <td>2023-02-09</td>\n",
       "      <td>2023-02-13</td>\n",
       "      <td>2023-02-17</td>\n",
       "      <td>Trailer</td>\n",
       "      <td>1237</td>\n",
       "      <td>Storm</td>\n",
       "      <td>Moderate</td>\n",
       "      <td>Yes</td>\n",
       "    </tr>\n",
       "    <tr>\n",
       "      <th>2</th>\n",
       "      <td>Mumbai</td>\n",
       "      <td>Chennai</td>\n",
       "      <td>2023-09-19</td>\n",
       "      <td>2023-09-25</td>\n",
       "      <td>2023-09-25</td>\n",
       "      <td>Truck</td>\n",
       "      <td>1863</td>\n",
       "      <td>Clear</td>\n",
       "      <td>Light</td>\n",
       "      <td>No</td>\n",
       "    </tr>\n",
       "    <tr>\n",
       "      <th>3</th>\n",
       "      <td>Hyderabad</td>\n",
       "      <td>Ahmedabad</td>\n",
       "      <td>2023-04-01</td>\n",
       "      <td>2023-04-05</td>\n",
       "      <td>2023-04-05</td>\n",
       "      <td>Container</td>\n",
       "      <td>1374</td>\n",
       "      <td>Clear</td>\n",
       "      <td>Light</td>\n",
       "      <td>No</td>\n",
       "    </tr>\n",
       "    <tr>\n",
       "      <th>4</th>\n",
       "      <td>Chennai</td>\n",
       "      <td>Kolkata</td>\n",
       "      <td>2023-11-24</td>\n",
       "      <td>2023-11-26</td>\n",
       "      <td>2023-11-28</td>\n",
       "      <td>Container</td>\n",
       "      <td>676</td>\n",
       "      <td>Clear</td>\n",
       "      <td>Heavy</td>\n",
       "      <td>Yes</td>\n",
       "    </tr>\n",
       "  </tbody>\n",
       "</table>\n",
       "</div>"
      ],
      "text/plain": [
       "      Origin Destination Shipment Date Planned Delivery Date  \\\n",
       "0     Jaipur      Mumbai    2023-04-26            2023-05-01   \n",
       "1  Bangalore       Delhi    2023-02-09            2023-02-13   \n",
       "2     Mumbai     Chennai    2023-09-19            2023-09-25   \n",
       "3  Hyderabad   Ahmedabad    2023-04-01            2023-04-05   \n",
       "4    Chennai     Kolkata    2023-11-24            2023-11-26   \n",
       "\n",
       "  Actual Delivery Date Vehicle Type  Distance (km) Weather Conditions  \\\n",
       "0           2023-05-02      Trailer           1603               Rain   \n",
       "1           2023-02-17      Trailer           1237              Storm   \n",
       "2           2023-09-25        Truck           1863              Clear   \n",
       "3           2023-04-05    Container           1374              Clear   \n",
       "4           2023-11-28    Container            676              Clear   \n",
       "\n",
       "  Traffic Conditions Delayed  \n",
       "0              Light     Yes  \n",
       "1           Moderate     Yes  \n",
       "2              Light      No  \n",
       "3              Light      No  \n",
       "4              Heavy     Yes  "
      ]
     },
     "execution_count": 73,
     "metadata": {},
     "output_type": "execute_result"
    }
   ],
   "source": [
    "df_2 = pd.read_csv(r'AI ML Internship Training Data.xlsx - freight_delivery_realistic_data.csv')\n",
    "df_2.drop(columns=[\"Shipment ID\"],inplace = True)\n",
    "df_2.head()"
   ]
  },
  {
   "cell_type": "code",
   "execution_count": 74,
   "metadata": {},
   "outputs": [
    {
     "name": "stdout",
     "output_type": "stream",
     "text": [
      "['Jaipur' 'Bangalore' 'Mumbai' 'Hyderabad' 'Chennai' 'Kolkata' 'Lucknow'\n",
      " 'Delhi' 'Ahmedabad' 'Pune']\n",
      "['Mumbai' 'Delhi' 'Chennai' 'Ahmedabad' 'Kolkata' 'Lucknow' 'Bangalore'\n",
      " 'Pune' 'Jaipur' 'Hyderabad']\n",
      "['Trailer' 'Truck' 'Container' 'Lorry' nan]\n",
      "['Rain' 'Storm' 'Clear' 'Fog']\n",
      "['Light' 'Moderate' 'Heavy']\n"
     ]
    }
   ],
   "source": [
    "columns =[\"Origin\",\"Destination\",\"Vehicle Type\",\"Weather Conditions\",\"Traffic Conditions\"]\n",
    "\n",
    "for i in columns:\n",
    "    print(df_2[i].unique())"
   ]
  }
 ],
 "metadata": {
  "colab": {
   "provenance": []
  },
  "kernelspec": {
   "display_name": "Python 3",
   "name": "python3"
  },
  "language_info": {
   "codemirror_mode": {
    "name": "ipython",
    "version": 3
   },
   "file_extension": ".py",
   "mimetype": "text/x-python",
   "name": "python",
   "nbconvert_exporter": "python",
   "pygments_lexer": "ipython3",
   "version": "3.11.2"
  }
 },
 "nbformat": 4,
 "nbformat_minor": 0
}
